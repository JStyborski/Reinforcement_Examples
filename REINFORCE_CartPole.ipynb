{
  "nbformat": 4,
  "nbformat_minor": 0,
  "metadata": {
    "colab": {
      "provenance": []
    },
    "kernelspec": {
      "name": "python3",
      "display_name": "Python 3"
    },
    "language_info": {
      "name": "python"
    }
  },
  "cells": [
    {
      "cell_type": "code",
      "execution_count": 11,
      "metadata": {
        "colab": {
          "base_uri": "https://localhost:8080/"
        },
        "id": "e0GgwDHYiQDt",
        "outputId": "440c2a86-d0f8-48cf-eef5-3d3eff8e03e0"
      },
      "outputs": [
        {
          "output_type": "stream",
          "name": "stdout",
          "text": [
            "Looking in indexes: https://pypi.org/simple, https://us-python.pkg.dev/colab-wheels/public/simple/\n",
            "Requirement already satisfied: pygame in /usr/local/lib/python3.8/dist-packages (2.1.2)\n"
          ]
        }
      ],
      "source": [
        "# Import libraries\n",
        "\n",
        "!pip install pygame\n",
        "#import os\n",
        "#os.environ['SDL_VIDEODRIVER']='dummy'\n",
        "#import pygame\n",
        "#pygame.display.set_mode((640,480))\n",
        "\n",
        "from IPython.display import clear_output\n",
        "from time import sleep\n",
        "\n",
        "import gym\n",
        "import numpy as np\n",
        "import torch\n",
        "import torch.nn as nn\n",
        "import torch.nn.functional as F\n",
        "import torch.optim as optim\n",
        "from torch.distributions import Categorical\n",
        "import matplotlib.pyplot as plt"
      ]
    },
    {
      "cell_type": "code",
      "source": [
        "# User Inputs\n",
        "\n",
        "gamma = 0.99  # Reward discount factor for each future step (lower value means more focus on shorter-term rewards)\n",
        "seed = 543  # Random seed\n",
        "render = False  # Render the environment\n",
        "logInterval = 20  # Interval between training status logs"
      ],
      "metadata": {
        "id": "l19VFC2Rib5X"
      },
      "execution_count": 3,
      "outputs": []
    },
    {
      "cell_type": "code",
      "source": [
        "# Reinforcement Learning Environment\n",
        "\n",
        "# CartPole is trying to solve the inverted pendulum problem\n",
        "# 4 inputs (cart position, cart veloc, pole angle, and pole ang veloc) and 2 outputs (push cart left, push cart right)\n",
        "# The reward is +1 for every iteration through the environment (state->action->results) that the pole is kept upright\n",
        "# Certain conditions (e.g. cart going too far) will terminate the session\n",
        "# This if loop is a hack, original code had \"if render: env.render()\" in main training loop, but if render_mode=human,\n",
        "# the render popup comes up regardless\n",
        "if render:\n",
        "    env = gym.make('CartPole-v1', render_mode='human', new_step_api=True)\n",
        "else:\n",
        "    env = gym.make('CartPole-v1', new_step_api=True)\n",
        "env.reset(seed=seed)\n",
        "torch.manual_seed(seed)"
      ],
      "metadata": {
        "colab": {
          "base_uri": "https://localhost:8080/"
        },
        "id": "NQRkCVtsiiEf",
        "outputId": "61afd374-8ed7-444a-80a5-3f10adcbdf73"
      },
      "execution_count": 4,
      "outputs": [
        {
          "output_type": "execute_result",
          "data": {
            "text/plain": [
              "<torch._C.Generator at 0x7f251d405c10>"
            ]
          },
          "metadata": {},
          "execution_count": 4
        }
      ]
    },
    {
      "cell_type": "code",
      "source": [
        "# Create Policy\n",
        "\n",
        "# Policy network is a 3-layer network, 4-128-2\n",
        "# We define the PyTorch network and the forward operation, which returns the softmax of the two output options\n",
        "class Policy(nn.Module):\n",
        "    def __init__(self):\n",
        "        super(Policy, self).__init__()\n",
        "        self.affine1 = nn.Linear(4, 128)\n",
        "        self.dropout = nn.Dropout(p=0.5)\n",
        "        self.affine2 = nn.Linear(128, 2)\n",
        "\n",
        "        self.saved_log_probs = [] # Used to save the action decisions at each interval\n",
        "        self.rewards = [] # Used to save rewards at each interval\n",
        "\n",
        "    def forward(self, x):\n",
        "        x = self.affine1(x)\n",
        "        x = self.dropout(x)\n",
        "        x = F.relu(x)\n",
        "        action_scores = self.affine2(x)\n",
        "        return F.softmax(action_scores, dim=1)\n",
        "\n",
        "# Instantiate the network and define the network optimizer\n",
        "nnPolicy = Policy()\n",
        "optimizer = optim.Adam(nnPolicy.parameters(), lr=1e-2)\n",
        "\n",
        "# Epsilon is the machine error term\n",
        "eps = np.finfo(np.float32).eps.item()"
      ],
      "metadata": {
        "id": "w5rrvec1isKo"
      },
      "execution_count": 5,
      "outputs": []
    },
    {
      "cell_type": "code",
      "source": [
        "# Execute Model Function\n",
        "\n",
        "# Runs the policy given inputs to get action probabilities and sample a decision\n",
        "def select_action(state):\n",
        "\n",
        "    # Recast input as torch tensor\n",
        "    state = torch.from_numpy(state).float().unsqueeze(0)\n",
        "\n",
        "    # output = model(input)\n",
        "    probs = nnPolicy(state)\n",
        "\n",
        "    # Get outputs as categorical probabilities and sample from it to get the action\n",
        "    m = Categorical(probs=probs)\n",
        "    action = m.sample()\n",
        "\n",
        "    # Append the decided action log probability to the policy ledger\n",
        "    nnPolicy.saved_log_probs.append(m.log_prob(action))\n",
        "\n",
        "    return action.item()"
      ],
      "metadata": {
        "id": "6fGGbh3XiySm"
      },
      "execution_count": 6,
      "outputs": []
    },
    {
      "cell_type": "code",
      "source": [
        "# Update Policy Network\n",
        "\n",
        "def finish_episode():\n",
        "\n",
        "    # Initialize marginal reward, policy loss value per step, and cumulative reward per step\n",
        "    R = 0\n",
        "    policy_loss = []\n",
        "    cumulRewards = []\n",
        "\n",
        "    # Gather the cumulative discounted rewards in reverse order (such that action 1 aligns with total reward)\n",
        "    # The first action affects all subsequent rewards, the last action only affects the last reward\n",
        "    for reward in nnPolicy.rewards[::-1]:\n",
        "        R = reward + gamma * R\n",
        "        cumulRewards.insert(0, R)\n",
        "    cumulRewards = torch.tensor(cumulRewards)\n",
        "    cumulRewards = (cumulRewards - cumulRewards.mean()) / (cumulRewards.std() + eps)\n",
        "\n",
        "    # Loss for each step is log_prob times the cumulative reward\n",
        "    for log_prob, cumulReward in zip(nnPolicy.saved_log_probs, cumulRewards):\n",
        "        policy_loss.append(-log_prob * cumulReward)\n",
        "\n",
        "    # Sum all of the losses for the episode together and step the policy network optimizer\n",
        "    # The gradient graph goes back from the policy_loss sum through the policy probabilities to the policy network\n",
        "    optimizer.zero_grad()\n",
        "    policy_loss = torch.cat(policy_loss).sum()\n",
        "    policy_loss.backward()\n",
        "    optimizer.step()\n",
        "\n",
        "    # Clear out policy rewards and log probabilities\n",
        "    del nnPolicy.rewards[:]\n",
        "    del nnPolicy.saved_log_probs[:]"
      ],
      "metadata": {
        "id": "M-R4rxE7i2cV"
      },
      "execution_count": 7,
      "outputs": []
    },
    {
      "cell_type": "code",
      "source": [
        "# Run RL Training\n",
        "\n",
        "# Initialize the total running reward across episodes used to compare against environment win threshold\n",
        "runningReward = 10\n",
        "\n",
        "# Run for a maximum of 500 training episodes\n",
        "for iEp in range(0, 500):\n",
        "\n",
        "    # Reset environment and initialize running episode reward for the new episode\n",
        "    state= env.reset()\n",
        "    epReward = 0\n",
        "\n",
        "    # Learning during the iEp'th episode\n",
        "    for t in range(1, 10000):  # Don't infinite loop while learning\n",
        "\n",
        "        # Get action from the policy network and interact with env to get new state, step reward, and done signal\n",
        "        # Also add reward to policy ledger and total episode reward\n",
        "        action = select_action(state)\n",
        "        state, reward, done, _, _ = env.step(action)\n",
        "        nnPolicy.rewards.append(reward)\n",
        "        epReward += reward\n",
        "\n",
        "        if done: break\n",
        "\n",
        "    # Update the running reward using an EMA\n",
        "    runningReward = 0.05 * epReward + (1 - 0.05) * runningReward\n",
        "\n",
        "    # Update policy network from episode\n",
        "    finish_episode()\n",
        "\n",
        "    # Print episode status\n",
        "    if iEp % logInterval == 0:\n",
        "        print('Episode {}\\tLast Reward: {:.2f}\\tRunning Avg Reward: {:.2f}'.format(iEp, epReward, runningReward))\n",
        "\n",
        "    # Check for if simulation passes the reward threshold\n",
        "    if runningReward > env.spec.reward_threshold:\n",
        "        print(\"Solved! Running reward is now {} and the last episode runs to {} time steps!\".format(runningReward, t))\n",
        "        break"
      ],
      "metadata": {
        "colab": {
          "base_uri": "https://localhost:8080/"
        },
        "id": "-aZkx7SAi9Ct",
        "outputId": "b49d3662-ca3b-4fdd-dfb3-b202f058adcd"
      },
      "execution_count": 8,
      "outputs": [
        {
          "output_type": "stream",
          "name": "stdout",
          "text": [
            "Episode 0\tLast Reward: 40.00\tRunning Avg Reward: 11.50\n",
            "Episode 20\tLast Reward: 24.00\tRunning Avg Reward: 24.27\n",
            "Episode 40\tLast Reward: 122.00\tRunning Avg Reward: 73.61\n",
            "Episode 60\tLast Reward: 250.00\tRunning Avg Reward: 105.14\n",
            "Episode 80\tLast Reward: 137.00\tRunning Avg Reward: 241.98\n",
            "Episode 100\tLast Reward: 316.00\tRunning Avg Reward: 318.40\n",
            "Episode 120\tLast Reward: 587.00\tRunning Avg Reward: 438.20\n",
            "Solved! Running reward is now 521.4379100303569 and the last episode runs to 1492 time steps!\n"
          ]
        }
      ]
    },
    {
      "cell_type": "code",
      "source": [
        "# Run Trained Model\n",
        "\n",
        "nEps = 100\n",
        "print('Running Trained Model for {} Episodes'.format(nEps))\n",
        "\n",
        "for iEp in range(nEps):\n",
        "    state = env.reset()\n",
        "    epReward = 0\n",
        "\n",
        "    # Learning during the iEp'th episode\n",
        "    for t in range(1, 2000):  # Don't infinite loop while learning\n",
        "\n",
        "        # Get action from the policy network and interact with env to get new state, step reward, and done signal\n",
        "        # Also add reward to policy ledger and total episode reward\n",
        "        action = select_action(state)\n",
        "        state, reward, done, _, _ = env.step(action)\n",
        "        epReward += reward\n",
        "\n",
        "        if done:\n",
        "            break\n",
        "\n",
        "    nnPolicy.rewards.append(epReward)\n",
        "\n",
        "print('Average Reward over {} Trials: {}'.format(nEps, sum(nnPolicy.rewards) / len(nnPolicy.rewards)))\n",
        "plt.plot(list(range(100)), nnPolicy.rewards)\n",
        "plt.show()"
      ],
      "metadata": {
        "colab": {
          "base_uri": "https://localhost:8080/",
          "height": 301
        },
        "id": "BtiX2FYRlXGP",
        "outputId": "59e469e1-ef4a-47b8-8a3c-321ade61ecb4"
      },
      "execution_count": 9,
      "outputs": [
        {
          "output_type": "stream",
          "name": "stdout",
          "text": [
            "Running Trained Model for 100 Episodes\n",
            "Average Reward over 100 Trials: 1712.36\n"
          ]
        },
        {
          "output_type": "display_data",
          "data": {
            "text/plain": [
              "<Figure size 432x288 with 1 Axes>"
            ],
            "image/png": "[encoded data removed]"
          },
          "metadata": {
            "needs_background": "light"
          }
        }
      ]
    },
    {
      "cell_type": "code",
      "source": [
        "# Render 1 Episode\n",
        "\n",
        "print('Rendering 1 Trained Run')\n",
        "\n",
        "env = gym.make('CartPole-v1', render_mode='rgb_array', new_step_api=True)\n",
        "state = env.reset()\n",
        "epReward = 0\n",
        "\n",
        "for t in range(1, 100):  # Don't infinite loop while learning\n",
        "\n",
        "    #env.render()\n",
        "    clear_output(wait=True)\n",
        "    env_screen = env.render()\n",
        "    plt.imshow(np.squeeze(np.array(env_screen)))\n",
        "    plt.show()\n",
        "    sleep(0.1)\n",
        "\n",
        "    # Get action from the policy network and interact with env to get new state, step reward, and done signal\n",
        "    # Also add reward to policy ledger and total episode reward\n",
        "    action = select_action(state)\n",
        "    state, reward, done, _, _ = env.step(action)\n",
        "    epReward += reward\n",
        "\n",
        "    if done:\n",
        "        break\n",
        "\n",
        "print('Render Ran for {} Steps'.format(epReward))\n",
        "\n",
        "env.close()"
      ],
      "metadata": {
        "colab": {
          "base_uri": "https://localhost:8080/",
          "height": 287
        },
        "id": "18l-IbKYpaaE",
        "outputId": "336043f6-0f95-479a-9569-3989ed5a0d47"
      },
      "execution_count": 20,
      "outputs": [
        {
          "output_type": "display_data",
          "data": {
            "text/plain": [
              "<Figure size 432x288 with 1 Axes>"
            ],
            "image/png": "[encoded data removed]"
          },
          "metadata": {
            "needs_background": "light"
          }
        },
        {
          "output_type": "stream",
          "name": "stdout",
          "text": [
            "Render Ran for 99.0 Steps\n"
          ]
        }
      ]
    }
  ]
}